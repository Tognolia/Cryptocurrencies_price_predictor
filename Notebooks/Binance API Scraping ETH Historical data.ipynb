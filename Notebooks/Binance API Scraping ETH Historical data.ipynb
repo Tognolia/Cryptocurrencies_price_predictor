{
 "cells": [
  {
   "cell_type": "markdown",
   "id": "occasional-morning",
   "metadata": {},
   "source": [
    "# Binance API Scraping: ETH Historical data\n",
    "- Using the api for exporting crypto prices for a specific time window"
   ]
  },
  {
   "cell_type": "code",
   "execution_count": 1,
   "id": "brilliant-blocking",
   "metadata": {},
   "outputs": [],
   "source": [
    "import requests\n",
    "import json\n",
    "import pandas as pd\n",
    "import datetime as dt\n",
    "import matplotlib.pyplot as plt"
   ]
  },
  {
   "cell_type": "markdown",
   "id": "destroyed-estimate",
   "metadata": {},
   "source": [
    "## Get data from binance, clean and concat the df."
   ]
  },
  {
   "cell_type": "code",
   "execution_count": 2,
   "id": "later-outdoors",
   "metadata": {},
   "outputs": [
    {
     "data": {
      "text/plain": [
       "<bound method NDFrame.head of                           datetime          open          high           low  \\\n",
       "2017-08-17 02:00:00  1502928000000  301.13000000  312.18000000  298.00000000   \n",
       "2017-08-18 02:00:00  1503014400000  302.00000000  311.79000000  283.94000000   \n",
       "2017-08-19 02:00:00  1503100800000  293.31000000  299.90000000  278.00000000   \n",
       "2017-08-20 02:00:00  1503187200000  289.41000000  300.53000000  282.85000000   \n",
       "2017-08-21 02:00:00  1503273600000  299.10000000  346.52000000  294.60000000   \n",
       "...                            ...           ...           ...           ...   \n",
       "2020-05-08 02:00:00  1588896000000  212.01000000  216.61000000  206.90000000   \n",
       "2020-05-09 02:00:00  1588982400000  211.32000000  214.60000000  208.40000000   \n",
       "2020-05-10 02:00:00  1589068800000  210.09000000  210.18000000  179.59000000   \n",
       "2020-05-11 02:00:00  1589155200000  187.62000000  193.50000000  176.00000000   \n",
       "2020-05-12 02:00:00  1589241600000  185.80000000  192.24000000  185.48000000   \n",
       "\n",
       "                            close            volume  \n",
       "2017-08-17 02:00:00  302.00000000     7030.71034000  \n",
       "2017-08-18 02:00:00  293.96000000     9537.84646000  \n",
       "2017-08-19 02:00:00  290.91000000     2146.19773000  \n",
       "2017-08-20 02:00:00  299.10000000     2510.13871000  \n",
       "2017-08-21 02:00:00  323.29000000     5219.44542000  \n",
       "...                           ...               ...  \n",
       "2020-05-08 02:00:00  211.31000000   917908.19440000  \n",
       "2020-05-09 02:00:00  210.07000000   587871.98073000  \n",
       "2020-05-10 02:00:00  187.54000000  1473226.05475000  \n",
       "2020-05-11 02:00:00  185.73000000  1093299.81927000  \n",
       "2020-05-12 02:00:00  189.76000000   669755.79567000  \n",
       "\n",
       "[1000 rows x 6 columns]>"
      ]
     },
     "execution_count": 2,
     "metadata": {},
     "output_type": "execute_result"
    }
   ],
   "source": [
    "# with this code I get the historical from first day of listing on binabce till 2020-05-12\n",
    "\n",
    "url = 'https://api.binance.com/api/v3/klines'\n",
    "\n",
    "symbol = 'ETHUSDT'\n",
    "\n",
    "interval = '1d'\n",
    "startTime = str(int(dt.datetime(2016, 1, 11).timestamp()*1000)) # we do now for a month\n",
    "endTime = str(int(dt.datetime(2021, 1, 11).timestamp()*1000)) #wants the millisecend from the starting date\n",
    "limit = 1000 #because is the max #one month * 24h \n",
    "    \n",
    "req_params = {'symbol' : symbol, 'interval' : interval,'startTime' : startTime, 'endTime': endTime, 'limit' : limit}\n",
    "\n",
    "df = pd.DataFrame(json.loads(requests.get(url, params = req_params).text))\n",
    "    \n",
    "df = df.iloc[:, 0:6]\n",
    "df.columns = ['datetime', 'open', 'high', 'low', 'close', 'volume']\n",
    "df.index = [dt.datetime.fromtimestamp(x / 1000.0) for x in df.datetime]\n",
    "df.head"
   ]
  },
  {
   "cell_type": "code",
   "execution_count": 3,
   "id": "stock-canberra",
   "metadata": {},
   "outputs": [
    {
     "data": {
      "text/plain": [
       "(1000, 6)"
      ]
     },
     "execution_count": 3,
     "metadata": {},
     "output_type": "execute_result"
    }
   ],
   "source": [
    "df.shape"
   ]
  },
  {
   "cell_type": "code",
   "execution_count": 4,
   "id": "geographic-voltage",
   "metadata": {},
   "outputs": [
    {
     "data": {
      "text/plain": [
       "<bound method NDFrame.head of                           datetime           open           high  \\\n",
       "2020-05-12 02:00:00  1589241600000   185.80000000   192.24000000   \n",
       "2020-05-13 02:00:00  1589328000000   189.77000000   201.00000000   \n",
       "2020-05-14 02:00:00  1589414400000   199.61000000   206.02000000   \n",
       "2020-05-15 02:00:00  1589500800000   203.29000000   204.08000000   \n",
       "2020-05-16 02:00:00  1589587200000   194.87000000   203.50000000   \n",
       "...                            ...            ...            ...   \n",
       "2021-05-07 02:00:00  1620345600000  3489.74000000  3587.00000000   \n",
       "2021-05-08 02:00:00  1620432000000  3479.79000000  3958.33000000   \n",
       "2021-05-09 02:00:00  1620518400000  3910.26000000  3983.65000000   \n",
       "2021-05-10 02:00:00  1620604800000  3923.95000000  4208.00000000   \n",
       "2021-05-11 02:00:00  1620691200000  3946.63000000  4180.22000000   \n",
       "\n",
       "                               low          close            volume  \n",
       "2020-05-12 02:00:00   185.48000000   189.76000000   669755.79567000  \n",
       "2020-05-13 02:00:00   188.35000000   199.58000000   806143.00704000  \n",
       "2020-05-14 02:00:00   195.67000000   203.29000000  1114700.24937000  \n",
       "2020-05-15 02:00:00   191.66000000   194.86000000   904749.63570000  \n",
       "2020-05-16 02:00:00   193.21000000   200.45000000   669900.03754000  \n",
       "...                            ...            ...               ...  \n",
       "2021-05-07 02:00:00  3353.23000000  3479.53000000   760544.64781000  \n",
       "2021-05-08 02:00:00  3449.27000000  3910.26000000  1130467.54852000  \n",
       "2021-05-09 02:00:00  3726.08000000  3923.95000000  1000401.00820000  \n",
       "2021-05-10 02:00:00  3650.00000000  3945.88000000  1505897.92612000  \n",
       "2021-05-11 02:00:00  3771.64000000  4173.45000000  1095927.10403000  \n",
       "\n",
       "[365 rows x 6 columns]>"
      ]
     },
     "execution_count": 4,
     "metadata": {},
     "output_type": "execute_result"
    }
   ],
   "source": [
    "# with this code I get the historical from first day of listing on binabce from 2020-05-12\n",
    "\n",
    "url = 'https://api.binance.com/api/v3/klines'\n",
    "\n",
    "symbol = 'ETHUSDT'\n",
    "\n",
    "interval_2 = '1d'\n",
    "startTime_2 = str(int(dt.datetime(2020, 5, 12).timestamp()*1000)) # we do now for a month\n",
    "endTime_2 = str(int(dt.datetime(2021, 5, 12).timestamp()*1000)) #wants the millisecend from the starting date\n",
    "limit = 1000 #because is the max #one month * 24h \n",
    "    \n",
    "req_params_2 = {'symbol' : symbol, 'interval' : interval_2,'startTime' : startTime_2, 'endTime': endTime_2, 'limit' : limit}\n",
    "\n",
    "df_2 = pd.DataFrame(json.loads(requests.get(url, params = req_params_2).text))\n",
    "\n",
    "    \n",
    "#if(len(df.index)==0):\n",
    "    #return None\n",
    "    \n",
    "df_2 = df_2.iloc[:, 0:6]\n",
    "df_2.columns = ['datetime', 'open', 'high', 'low', 'close', 'volume']\n",
    "df_2.index = [dt.datetime.fromtimestamp(x / 1000.0) for x in df_2.datetime]\n",
    "df_2.head\n"
   ]
  },
  {
   "cell_type": "code",
   "execution_count": 5,
   "id": "promotional-medicaid",
   "metadata": {},
   "outputs": [
    {
     "data": {
      "text/plain": [
       "(1365, 6)"
      ]
     },
     "execution_count": 5,
     "metadata": {},
     "output_type": "execute_result"
    }
   ],
   "source": [
    "# concat the dataframes\n",
    "\n",
    "df = pd.concat([df, df_2])\n",
    "df.shape"
   ]
  },
  {
   "cell_type": "code",
   "execution_count": 6,
   "id": "tropical-finance",
   "metadata": {},
   "outputs": [
    {
     "data": {
      "text/plain": [
       "pandas.core.frame.DataFrame"
      ]
     },
     "execution_count": 6,
     "metadata": {},
     "output_type": "execute_result"
    }
   ],
   "source": [
    "type(df)"
   ]
  },
  {
   "cell_type": "code",
   "execution_count": 7,
   "id": "becoming-stable",
   "metadata": {},
   "outputs": [
    {
     "data": {
      "text/plain": [
       "<AxesSubplot:>"
      ]
     },
     "execution_count": 7,
     "metadata": {},
     "output_type": "execute_result"
    },
    {
     "data": {
      "image/png": "[encoded data removed]",
      "text/plain": [
       "<Figure size 432x288 with 1 Axes>"
      ]
     },
     "metadata": {
      "needs_background": "light"
     },
     "output_type": "display_data"
    }
   ],
   "source": [
    "df['close'].astype('float').plot()"
   ]
  },
  {
   "cell_type": "code",
   "execution_count": 8,
   "id": "clinical-control",
   "metadata": {},
   "outputs": [],
   "source": [
    "df.to_csv('binance_hist_data.csv')"
   ]
  },
  {
   "cell_type": "code",
   "execution_count": 9,
   "id": "czech-renewal",
   "metadata": {},
   "outputs": [],
   "source": [
    "# Removing the datetime col because it is redundant\n",
    "df = df.iloc[:, 1:]\n",
    "df"
   ]
  },
  {
   "cell_type": "code",
   "execution_count": 11,
   "id": "similar-content",
   "metadata": {},
   "outputs": [
    {
     "data": {
      "text/html": [
       "<div>\n",
       "<style scoped>\n",
       "    .dataframe tbody tr th:only-of-type {\n",
       "        vertical-align: middle;\n",
       "    }\n",
       "\n",
       "    .dataframe tbody tr th {\n",
       "        vertical-align: top;\n",
       "    }\n",
       "\n",
       "    .dataframe thead th {\n",
       "        text-align: right;\n",
       "    }\n",
       "</style>\n",
       "<table border=\"1\" class=\"dataframe\">\n",
       "  <thead>\n",
       "    <tr style=\"text-align: right;\">\n",
       "      <th></th>\n",
       "      <th>open</th>\n",
       "      <th>high</th>\n",
       "      <th>low</th>\n",
       "      <th>close</th>\n",
       "      <th>volume</th>\n",
       "      <th>date</th>\n",
       "    </tr>\n",
       "  </thead>\n",
       "  <tbody>\n",
       "    <tr>\n",
       "      <th>2017-08-17 02:00:00</th>\n",
       "      <td>301.13000000</td>\n",
       "      <td>312.18000000</td>\n",
       "      <td>298.00000000</td>\n",
       "      <td>302.00000000</td>\n",
       "      <td>7030.71034000</td>\n",
       "      <td>2017-08-17 02:00:00</td>\n",
       "    </tr>\n",
       "    <tr>\n",
       "      <th>2017-08-18 02:00:00</th>\n",
       "      <td>302.00000000</td>\n",
       "      <td>311.79000000</td>\n",
       "      <td>283.94000000</td>\n",
       "      <td>293.96000000</td>\n",
       "      <td>9537.84646000</td>\n",
       "      <td>2017-08-18 02:00:00</td>\n",
       "    </tr>\n",
       "    <tr>\n",
       "      <th>2017-08-19 02:00:00</th>\n",
       "      <td>293.31000000</td>\n",
       "      <td>299.90000000</td>\n",
       "      <td>278.00000000</td>\n",
       "      <td>290.91000000</td>\n",
       "      <td>2146.19773000</td>\n",
       "      <td>2017-08-19 02:00:00</td>\n",
       "    </tr>\n",
       "    <tr>\n",
       "      <th>2017-08-20 02:00:00</th>\n",
       "      <td>289.41000000</td>\n",
       "      <td>300.53000000</td>\n",
       "      <td>282.85000000</td>\n",
       "      <td>299.10000000</td>\n",
       "      <td>2510.13871000</td>\n",
       "      <td>2017-08-20 02:00:00</td>\n",
       "    </tr>\n",
       "    <tr>\n",
       "      <th>2017-08-21 02:00:00</th>\n",
       "      <td>299.10000000</td>\n",
       "      <td>346.52000000</td>\n",
       "      <td>294.60000000</td>\n",
       "      <td>323.29000000</td>\n",
       "      <td>5219.44542000</td>\n",
       "      <td>2017-08-21 02:00:00</td>\n",
       "    </tr>\n",
       "    <tr>\n",
       "      <th>...</th>\n",
       "      <td>...</td>\n",
       "      <td>...</td>\n",
       "      <td>...</td>\n",
       "      <td>...</td>\n",
       "      <td>...</td>\n",
       "      <td>...</td>\n",
       "    </tr>\n",
       "    <tr>\n",
       "      <th>2021-05-07 02:00:00</th>\n",
       "      <td>3489.74000000</td>\n",
       "      <td>3587.00000000</td>\n",
       "      <td>3353.23000000</td>\n",
       "      <td>3479.53000000</td>\n",
       "      <td>760544.64781000</td>\n",
       "      <td>2021-05-07 02:00:00</td>\n",
       "    </tr>\n",
       "    <tr>\n",
       "      <th>2021-05-08 02:00:00</th>\n",
       "      <td>3479.79000000</td>\n",
       "      <td>3958.33000000</td>\n",
       "      <td>3449.27000000</td>\n",
       "      <td>3910.26000000</td>\n",
       "      <td>1130467.54852000</td>\n",
       "      <td>2021-05-08 02:00:00</td>\n",
       "    </tr>\n",
       "    <tr>\n",
       "      <th>2021-05-09 02:00:00</th>\n",
       "      <td>3910.26000000</td>\n",
       "      <td>3983.65000000</td>\n",
       "      <td>3726.08000000</td>\n",
       "      <td>3923.95000000</td>\n",
       "      <td>1000401.00820000</td>\n",
       "      <td>2021-05-09 02:00:00</td>\n",
       "    </tr>\n",
       "    <tr>\n",
       "      <th>2021-05-10 02:00:00</th>\n",
       "      <td>3923.95000000</td>\n",
       "      <td>4208.00000000</td>\n",
       "      <td>3650.00000000</td>\n",
       "      <td>3945.88000000</td>\n",
       "      <td>1505897.92612000</td>\n",
       "      <td>2021-05-10 02:00:00</td>\n",
       "    </tr>\n",
       "    <tr>\n",
       "      <th>2021-05-11 02:00:00</th>\n",
       "      <td>3946.63000000</td>\n",
       "      <td>4180.22000000</td>\n",
       "      <td>3771.64000000</td>\n",
       "      <td>4173.45000000</td>\n",
       "      <td>1095927.10403000</td>\n",
       "      <td>2021-05-11 02:00:00</td>\n",
       "    </tr>\n",
       "  </tbody>\n",
       "</table>\n",
       "<p>1365 rows × 6 columns</p>\n",
       "</div>"
      ],
      "text/plain": [
       "                              open           high            low  \\\n",
       "2017-08-17 02:00:00   301.13000000   312.18000000   298.00000000   \n",
       "2017-08-18 02:00:00   302.00000000   311.79000000   283.94000000   \n",
       "2017-08-19 02:00:00   293.31000000   299.90000000   278.00000000   \n",
       "2017-08-20 02:00:00   289.41000000   300.53000000   282.85000000   \n",
       "2017-08-21 02:00:00   299.10000000   346.52000000   294.60000000   \n",
       "...                            ...            ...            ...   \n",
       "2021-05-07 02:00:00  3489.74000000  3587.00000000  3353.23000000   \n",
       "2021-05-08 02:00:00  3479.79000000  3958.33000000  3449.27000000   \n",
       "2021-05-09 02:00:00  3910.26000000  3983.65000000  3726.08000000   \n",
       "2021-05-10 02:00:00  3923.95000000  4208.00000000  3650.00000000   \n",
       "2021-05-11 02:00:00  3946.63000000  4180.22000000  3771.64000000   \n",
       "\n",
       "                             close            volume                date  \n",
       "2017-08-17 02:00:00   302.00000000     7030.71034000 2017-08-17 02:00:00  \n",
       "2017-08-18 02:00:00   293.96000000     9537.84646000 2017-08-18 02:00:00  \n",
       "2017-08-19 02:00:00   290.91000000     2146.19773000 2017-08-19 02:00:00  \n",
       "2017-08-20 02:00:00   299.10000000     2510.13871000 2017-08-20 02:00:00  \n",
       "2017-08-21 02:00:00   323.29000000     5219.44542000 2017-08-21 02:00:00  \n",
       "...                            ...               ...                 ...  \n",
       "2021-05-07 02:00:00  3479.53000000   760544.64781000 2021-05-07 02:00:00  \n",
       "2021-05-08 02:00:00  3910.26000000  1130467.54852000 2021-05-08 02:00:00  \n",
       "2021-05-09 02:00:00  3923.95000000  1000401.00820000 2021-05-09 02:00:00  \n",
       "2021-05-10 02:00:00  3945.88000000  1505897.92612000 2021-05-10 02:00:00  \n",
       "2021-05-11 02:00:00  4173.45000000  1095927.10403000 2021-05-11 02:00:00  \n",
       "\n",
       "[1365 rows x 6 columns]"
      ]
     },
     "execution_count": 11,
     "metadata": {},
     "output_type": "execute_result"
    }
   ],
   "source": [
    "# turn date into an index\n",
    "df['date'] = df.index\n",
    "df"
   ]
  },
  {
   "cell_type": "code",
   "execution_count": 12,
   "id": "ready-fight",
   "metadata": {},
   "outputs": [],
   "source": [
    "#exportthe results\n",
    "df.to_csv('df_no_index.csv', index = False )"
   ]
  },
  {
   "cell_type": "code",
   "execution_count": 14,
   "id": "elect-choir",
   "metadata": {},
   "outputs": [
    {
     "data": {
      "text/html": [
       "<div>\n",
       "<style scoped>\n",
       "    .dataframe tbody tr th:only-of-type {\n",
       "        vertical-align: middle;\n",
       "    }\n",
       "\n",
       "    .dataframe tbody tr th {\n",
       "        vertical-align: top;\n",
       "    }\n",
       "\n",
       "    .dataframe thead th {\n",
       "        text-align: right;\n",
       "    }\n",
       "</style>\n",
       "<table border=\"1\" class=\"dataframe\">\n",
       "  <thead>\n",
       "    <tr style=\"text-align: right;\">\n",
       "      <th></th>\n",
       "      <th>open</th>\n",
       "      <th>high</th>\n",
       "      <th>low</th>\n",
       "      <th>close</th>\n",
       "      <th>volume</th>\n",
       "      <th>date</th>\n",
       "    </tr>\n",
       "  </thead>\n",
       "  <tbody>\n",
       "    <tr>\n",
       "      <th>2017-08-17 02:00:00</th>\n",
       "      <td>301.13000000</td>\n",
       "      <td>312.18000000</td>\n",
       "      <td>298.00000000</td>\n",
       "      <td>302.00000000</td>\n",
       "      <td>7030.71034000</td>\n",
       "      <td>2017-08-17 02:00:00</td>\n",
       "    </tr>\n",
       "    <tr>\n",
       "      <th>2017-08-18 02:00:00</th>\n",
       "      <td>302.00000000</td>\n",
       "      <td>311.79000000</td>\n",
       "      <td>283.94000000</td>\n",
       "      <td>293.96000000</td>\n",
       "      <td>9537.84646000</td>\n",
       "      <td>2017-08-18 02:00:00</td>\n",
       "    </tr>\n",
       "    <tr>\n",
       "      <th>2017-08-19 02:00:00</th>\n",
       "      <td>293.31000000</td>\n",
       "      <td>299.90000000</td>\n",
       "      <td>278.00000000</td>\n",
       "      <td>290.91000000</td>\n",
       "      <td>2146.19773000</td>\n",
       "      <td>2017-08-19 02:00:00</td>\n",
       "    </tr>\n",
       "    <tr>\n",
       "      <th>2017-08-20 02:00:00</th>\n",
       "      <td>289.41000000</td>\n",
       "      <td>300.53000000</td>\n",
       "      <td>282.85000000</td>\n",
       "      <td>299.10000000</td>\n",
       "      <td>2510.13871000</td>\n",
       "      <td>2017-08-20 02:00:00</td>\n",
       "    </tr>\n",
       "    <tr>\n",
       "      <th>2017-08-21 02:00:00</th>\n",
       "      <td>299.10000000</td>\n",
       "      <td>346.52000000</td>\n",
       "      <td>294.60000000</td>\n",
       "      <td>323.29000000</td>\n",
       "      <td>5219.44542000</td>\n",
       "      <td>2017-08-21 02:00:00</td>\n",
       "    </tr>\n",
       "    <tr>\n",
       "      <th>...</th>\n",
       "      <td>...</td>\n",
       "      <td>...</td>\n",
       "      <td>...</td>\n",
       "      <td>...</td>\n",
       "      <td>...</td>\n",
       "      <td>...</td>\n",
       "    </tr>\n",
       "    <tr>\n",
       "      <th>2021-05-07 02:00:00</th>\n",
       "      <td>3489.74000000</td>\n",
       "      <td>3587.00000000</td>\n",
       "      <td>3353.23000000</td>\n",
       "      <td>3479.53000000</td>\n",
       "      <td>760544.64781000</td>\n",
       "      <td>2021-05-07 02:00:00</td>\n",
       "    </tr>\n",
       "    <tr>\n",
       "      <th>2021-05-08 02:00:00</th>\n",
       "      <td>3479.79000000</td>\n",
       "      <td>3958.33000000</td>\n",
       "      <td>3449.27000000</td>\n",
       "      <td>3910.26000000</td>\n",
       "      <td>1130467.54852000</td>\n",
       "      <td>2021-05-08 02:00:00</td>\n",
       "    </tr>\n",
       "    <tr>\n",
       "      <th>2021-05-09 02:00:00</th>\n",
       "      <td>3910.26000000</td>\n",
       "      <td>3983.65000000</td>\n",
       "      <td>3726.08000000</td>\n",
       "      <td>3923.95000000</td>\n",
       "      <td>1000401.00820000</td>\n",
       "      <td>2021-05-09 02:00:00</td>\n",
       "    </tr>\n",
       "    <tr>\n",
       "      <th>2021-05-10 02:00:00</th>\n",
       "      <td>3923.95000000</td>\n",
       "      <td>4208.00000000</td>\n",
       "      <td>3650.00000000</td>\n",
       "      <td>3945.88000000</td>\n",
       "      <td>1505897.92612000</td>\n",
       "      <td>2021-05-10 02:00:00</td>\n",
       "    </tr>\n",
       "    <tr>\n",
       "      <th>2021-05-11 02:00:00</th>\n",
       "      <td>3946.63000000</td>\n",
       "      <td>4180.22000000</td>\n",
       "      <td>3771.64000000</td>\n",
       "      <td>4173.45000000</td>\n",
       "      <td>1095927.10403000</td>\n",
       "      <td>2021-05-11 02:00:00</td>\n",
       "    </tr>\n",
       "  </tbody>\n",
       "</table>\n",
       "<p>1365 rows × 6 columns</p>\n",
       "</div>"
      ],
      "text/plain": [
       "                              open           high            low  \\\n",
       "2017-08-17 02:00:00   301.13000000   312.18000000   298.00000000   \n",
       "2017-08-18 02:00:00   302.00000000   311.79000000   283.94000000   \n",
       "2017-08-19 02:00:00   293.31000000   299.90000000   278.00000000   \n",
       "2017-08-20 02:00:00   289.41000000   300.53000000   282.85000000   \n",
       "2017-08-21 02:00:00   299.10000000   346.52000000   294.60000000   \n",
       "...                            ...            ...            ...   \n",
       "2021-05-07 02:00:00  3489.74000000  3587.00000000  3353.23000000   \n",
       "2021-05-08 02:00:00  3479.79000000  3958.33000000  3449.27000000   \n",
       "2021-05-09 02:00:00  3910.26000000  3983.65000000  3726.08000000   \n",
       "2021-05-10 02:00:00  3923.95000000  4208.00000000  3650.00000000   \n",
       "2021-05-11 02:00:00  3946.63000000  4180.22000000  3771.64000000   \n",
       "\n",
       "                             close            volume                date  \n",
       "2017-08-17 02:00:00   302.00000000     7030.71034000 2017-08-17 02:00:00  \n",
       "2017-08-18 02:00:00   293.96000000     9537.84646000 2017-08-18 02:00:00  \n",
       "2017-08-19 02:00:00   290.91000000     2146.19773000 2017-08-19 02:00:00  \n",
       "2017-08-20 02:00:00   299.10000000     2510.13871000 2017-08-20 02:00:00  \n",
       "2017-08-21 02:00:00   323.29000000     5219.44542000 2017-08-21 02:00:00  \n",
       "...                            ...               ...                 ...  \n",
       "2021-05-07 02:00:00  3479.53000000   760544.64781000 2021-05-07 02:00:00  \n",
       "2021-05-08 02:00:00  3910.26000000  1130467.54852000 2021-05-08 02:00:00  \n",
       "2021-05-09 02:00:00  3923.95000000  1000401.00820000 2021-05-09 02:00:00  \n",
       "2021-05-10 02:00:00  3945.88000000  1505897.92612000 2021-05-10 02:00:00  \n",
       "2021-05-11 02:00:00  4173.45000000  1095927.10403000 2021-05-11 02:00:00  \n",
       "\n",
       "[1365 rows x 6 columns]"
      ]
     },
     "execution_count": 14,
     "metadata": {},
     "output_type": "execute_result"
    }
   ],
   "source": [
    "# Change the date column to a pandas date time column \n",
    "\n",
    "# Define string format\n",
    "date_change = '%Y-%m-%d'\n",
    "\n",
    "\n",
    "# Perform the date type change\n",
    "df['date'] = pd.to_datetime(df['date'], format = date_change)\n",
    "\n",
    "# Create a variable that is the date column\n",
    "Dates = df['date']\n",
    "\n",
    "#df print\n",
    "df"
   ]
  },
  {
   "cell_type": "code",
   "execution_count": null,
   "id": "precious-siemens",
   "metadata": {},
   "outputs": [],
   "source": [
    "# Change the date column to a pandas date time column \n",
    "\n",
    "# Define string format\n",
    "date_change = '%Y-%m-%d'\n",
    "\n",
    "# Create a new date column from the index\n",
    "df['date'] = df.index\n",
    "\n",
    "# Perform the date type change\n",
    "df['Date'] = pd.to_datetime(df['Date'], format = date_change)\n",
    "\n",
    "# Create a variable that is the date column\n",
    "Dates = df['Date']"
   ]
  }
 ],
 "metadata": {
  "kernelspec": {
   "display_name": "Python 3",
   "language": "python",
   "name": "python3"
  },
  "language_info": {
   "codemirror_mode": {
    "name": "ipython",
    "version": 3
   },
   "file_extension": ".py",
   "mimetype": "text/x-python",
   "name": "python",
   "nbconvert_exporter": "python",
   "pygments_lexer": "ipython3",
   "version": "3.9.2"
  }
 },
 "nbformat": 4,
 "nbformat_minor": 5
}
